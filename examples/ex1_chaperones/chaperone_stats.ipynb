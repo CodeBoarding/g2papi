{
 "cells": [
  {
   "cell_type": "markdown",
   "id": "49097bfb",
   "metadata": {},
   "source": [
    "[![Open In Colab](https://colab.research.google.com/assets/colab-badge.svg)](https://colab.research.google.com/github/broadinstitute/g2papi/blob/main/examples/ex1_chaperones/chaperone_stats.ipynb)\n"
   ]
  },
  {
   "cell_type": "code",
   "execution_count": null,
   "id": "ff514738-38c1-4e13-bb10-bce3805c7228",
   "metadata": {},
   "outputs": [],
   "source": [
    "!pip install g2papi\n",
    "\n",
    "# Downlad Pharos Chaperone Query Results\n",
    "!wget -O \"query_results.csv\" \"https://raw.githubusercontent.com/broadinstitute/g2papi/main/examples/ex1_chaperones/query%20results.csv\"\n"
   ]
  },
  {
   "cell_type": "code",
   "execution_count": null,
   "id": "ca84725a-71b2-42f2-a1d0-571ecba6d057",
   "metadata": {},
   "outputs": [],
   "source": [
    "import g2papi\n",
    "\n",
    "# G2P3D API: Get gene-transcript-protein isoform-protein structure map as a pandas dataframe\n",
    "gene_transcript_protein_isoform_struct = g2papi.get_gene_transcript_protein_isoform_structure('BRCA1', 'P38398')\n",
    "print(gene_transcript_protein_isoform_struct[['UniProt Isoform','Ensembl Transcript Id', 'RefSeq mRNA Id']].head())\n"
   ]
  },
  {
   "cell_type": "code",
   "execution_count": null,
   "id": "9f1860b2-57a2-49fe-ae44-acd2bd018e9e",
   "metadata": {},
   "outputs": [],
   "source": [
    "import pandas as pd\n",
    "\n",
    "chaperones = pd.read_csv(\"query_results.csv\")\n",
    "\n",
    "chaperones.head()"
   ]
  },
  {
   "cell_type": "markdown",
   "id": "4a8df00d-70e8-4594-8c5f-fb22d111bcda",
   "metadata": {},
   "source": [
    "## Identify number of chaperones where canonical protein isoform maps to MANEselect Transcript"
   ]
  },
  {
   "cell_type": "code",
   "execution_count": null,
   "id": "b5f57285-4cb9-4465-9712-337340b3af5c",
   "metadata": {},
   "outputs": [],
   "source": [
    "from tqdm.notebook import tqdm\n",
    "import time\n",
    "transcript_results_df = pd.DataFrame()\n",
    "\n",
    "print(chaperones.shape)\n",
    "\n",
    "for i, chaperone in tqdm(chaperones.iterrows()):\n",
    "    #print(chaperone)\n",
    "    uniprot = chaperone[\"UniProt\"]\n",
    "    gene = chaperone[\"Symbol\"]\n",
    "    \n",
    "    #print(i, uniprot, gene)\n",
    "    \n",
    "    try:\n",
    "        time.sleep(1)\n",
    "        map_df = g2papi.get_gene_transcript_protein_isoform_structure(gene, uniprot)\n",
    "        #print(map_df)\n",
    "    except Exception as e:\n",
    "        print(f\"API failed for {gene}, {uniprot}\", e)\n",
    "        continue\n",
    "    \n",
    "    map_df[\"gene\"] = gene\n",
    "    \n",
    "    transcript_results_df = pd.concat([transcript_results_df, map_df])   \n"
   ]
  },
  {
   "cell_type": "code",
   "execution_count": null,
   "id": "ba235d16-c7dc-412d-bd75-da62cc5b8865",
   "metadata": {},
   "outputs": [],
   "source": [
    "transcript_results_df.to_csv(\"chaperone_transcript_results.csv\")"
   ]
  },
  {
   "cell_type": "code",
   "execution_count": null,
   "id": "1896e024-312d-4e38-ac9e-caeebfb8014c",
   "metadata": {},
   "outputs": [],
   "source": [
    "import pandas as pd\n",
    "transcript_results_df = pd.read_csv(\"chaperone_transcript_results.csv\")\n",
    "print(transcript_results_df.shape)\n",
    "\n",
    "transcript_results_df.head()"
   ]
  },
  {
   "cell_type": "code",
   "execution_count": null,
   "id": "3ed9f693-ca84-433e-a37b-1ac52eb4e19a",
   "metadata": {},
   "outputs": [],
   "source": [
    "from tqdm.notebook import tqdm\n",
    "matching_refseq = 0\n",
    "uniprots = []\n",
    "\n",
    "for i, chaperone in tqdm(chaperones.iterrows()):\n",
    "    #print(chaperone)\n",
    "    uniprot = chaperone[\"UniProt\"]\n",
    "    \n",
    "    transcripts = transcript_results_df[transcript_results_df[\"UniProtKB\"] == uniprot]\n",
    "    \n",
    "    #print(transcripts)\n",
    "\n",
    "    \n",
    "    canonical_protein_rows = transcripts[transcripts[\"UniProt Isoform\"].str.contains(r\"\\*\", na=False)]\n",
    "    #print(canonical_protein_rows)\n",
    "    \n",
    "    mane_select = canonical_protein_rows[canonical_protein_rows[\"RefSeq mRNA Id\"].str.contains(\"MANE\", na=False)]\n",
    "    #1/0\n",
    "    if(mane_select.shape[0] > 0):\n",
    "        uniprots.append(uniprot)\n",
    "        matching_refseq += 1\n",
    "        \n",
    "print(matching_refseq)\n",
    "\n"
   ]
  },
  {
   "cell_type": "code",
   "execution_count": null,
   "id": "8d069928-014e-430a-a906-868490d01a98",
   "metadata": {},
   "outputs": [],
   "source": [
    "import seaborn as sns\n",
    "import matplotlib.pyplot as plt\n",
    "# barplot chaperones with/without matching refseq. 2 bars, one for with refseq, one for without\n",
    "non_matching_refseq = len(chaperones) - matching_refseq\n",
    "\n",
    "sns.barplot(x=[\"MANE-select match\", \"MANE-select mismatch\"], y=[matching_refseq, non_matching_refseq])\n",
    "\n",
    "# annotate the bars with the numbers\n",
    "plt.text(0, matching_refseq, str(matching_refseq), ha='center', va='bottom')\n",
    "plt.text(1, non_matching_refseq, str(non_matching_refseq), ha='center', va='bottom')\n",
    "\n",
    "plt.title(\"Chaperones with MANE-selected RefSeq on Canonical Protein Isoform\")\n",
    "plt.ylabel(\"# Chaperones\")\n",
    "\n",
    "plt.show()\n"
   ]
  },
  {
   "cell_type": "markdown",
   "id": "8b776406-3527-4d52-9ca2-46edbef77e20",
   "metadata": {},
   "source": [
    "## Chaperone Structure Characterization"
   ]
  },
  {
   "cell_type": "code",
   "execution_count": null,
   "id": "91c0bbf5-8c74-475a-975a-13a57fbd413b",
   "metadata": {},
   "outputs": [],
   "source": [
    "all_protein_features_df = pd.DataFrame()\n",
    "\n",
    "for i, chaperone in tqdm(chaperones.iterrows()):\n",
    "    uniprot = chaperone[\"UniProt\"]\n",
    "    gene = chaperone[\"Symbol\"]\n",
    "    \n",
    "    try:\n",
    "        protein_features_df = g2papi.get_protein_features(gene, uniprot)\n",
    "        protein_features_df[\"gene\"] = gene\n",
    "        protein_features_df[\"uniprot\"] = uniprot\n",
    "        all_protein_features_df = pd.concat([all_protein_features_df, protein_features_df])\n",
    "        #print(map_df)\n",
    "    except Exception as e:\n",
    "        print(f\"API failed for {gene}, {uniprot}\", e)\n",
    "        continue\n",
    "\n",
    "\n",
    "all_protein_features_df.to_csv(\"chaperone_protein_features.csv\")"
   ]
  },
  {
   "cell_type": "code",
   "execution_count": null,
   "id": "78b56417-2088-4f0e-9b94-32dfe0fac179",
   "metadata": {},
   "outputs": [],
   "source": [
    "all_protein_features_df = pd.read_csv(\"chaperone_protein_features.csv\")\n",
    "# piechart of the value_counts from the \"Secondary structure (DSSP 3-state)*\" column\n",
    "\n",
    "# piechart of the value_counts from the \"Secondary structure (DSSP 3-state)*\" column\n",
    "plt.pie(all_protein_features_df[\"Secondary structure (DSSP 3-state)*\"].value_counts(), labels=all_protein_features_df[\"Secondary structure (DSSP 3-state)*\"].value_counts().index, autopct='%1.1f%%')\n",
    "plt.title(\"Secondary structure of Chaperone Proteins\")\n",
    "plt.show()\n"
   ]
  },
  {
   "cell_type": "code",
   "execution_count": null,
   "id": "1071062d-f4af-4f16-a2e0-ff53ddc88562",
   "metadata": {},
   "outputs": [],
   "source": []
  }
 ],
 "metadata": {
  "kernelspec": {
   "display_name": "Python 3 (ipykernel)",
   "language": "python",
   "name": "python3"
  },
  "language_info": {
   "codemirror_mode": {
    "name": "ipython",
    "version": 3
   },
   "file_extension": ".py",
   "mimetype": "text/x-python",
   "name": "python",
   "nbconvert_exporter": "python",
   "pygments_lexer": "ipython3",
   "version": "3.10.15"
  }
 },
 "nbformat": 4,
 "nbformat_minor": 5
}
